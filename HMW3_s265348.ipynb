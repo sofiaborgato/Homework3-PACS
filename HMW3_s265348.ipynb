{
 "cells": [
  {
   "cell_type": "markdown",
   "metadata": {
    "colab_type": "text",
    "id": "ke7dbo7bE77B"
   },
   "source": [
    "IMPORT\n"
   ]
  },
  {
   "cell_type": "code",
   "execution_count": 0,
   "metadata": {
    "colab": {},
    "colab_type": "code",
    "id": "BbNHcr7DE0kn"
   },
   "outputs": [],
   "source": [
    "import copy\n",
    "import numpy as np\n",
    "import pandas as pd\n",
    "import matplotlib.pyplot as plt\n",
    "import os\n",
    "import logging\n",
    "\n",
    "import torch\n",
    "import torch.nn as nn\n",
    "import torch.optim as optim\n",
    "from torch.utils.data import Subset, DataLoader\n",
    "from torch.backends import cudnn\n",
    "\n",
    "import torchvision\n",
    "from torchvision import transforms\n",
    "from torchvision.models import alexnet\n",
    "from torchvision.models import resnet18\n",
    "\n",
    "from PIL import Image\n",
    "from tqdm import tqdm\n",
    "import torch\n",
    "import torch.nn as nn\n",
    "from torchvision.models.utils import load_state_dict_from_url"
   ]
  },
  {
   "cell_type": "markdown",
   "metadata": {
    "colab_type": "text",
    "id": "Am8PnfjuFCXB"
   },
   "source": [
    "SET ARGUMENTS\n"
   ]
  },
  {
   "cell_type": "code",
   "execution_count": 0,
   "metadata": {
    "colab": {},
    "colab_type": "code",
    "id": "asRP9v76FBZj"
   },
   "outputs": [],
   "source": [
    "\n",
    "DEVICE = 'cuda' # 'cuda' or 'cpu'\n",
    "\n",
    "NUM_CLASSES = 1000\n",
    "\n",
    "BATCH_SIZE = 512    # Higher batch sizes allows for larger learning rates. An empirical heuristic suggests that, when changing\n",
    "                     # the batch size, learning rate should change by the same factor to have comparable results\n",
    "\n",
    "LR = 1e-3           # The initial Learning Rate\n",
    "MOMENTUM = 0.9       # Hyperparameter for SGD, keep this at 0.9 when using SGD\n",
    "WEIGHT_DECAY = 5e-5  # Regularization, you can keep this at the default\n",
    "\n",
    "NUM_EPOCHS = 10     # Total number of training epochs (iterations over dataset)\n",
    "STEP_SIZE = 5      # How many epochs before decreasing learning rate (if using a step-down policy)\n",
    "GAMMA = 0.1         # Multiplicative factor for learning rate step-down\n",
    "\n",
    "ALPHA = 0.001\n",
    "\n",
    "\n",
    "LOG_FREQUENCY = 10"
   ]
  },
  {
   "cell_type": "markdown",
   "metadata": {
    "colab_type": "text",
    "id": "gsKNGW9wFKkC"
   },
   "source": [
    "DEFINE DATA PREPROCESSING\n"
   ]
  },
  {
   "cell_type": "code",
   "execution_count": 0,
   "metadata": {
    "colab": {},
    "colab_type": "code",
    "id": "I42sG-P6FJhj"
   },
   "outputs": [],
   "source": [
    "# Define transforms for training phase\n",
    "train_transform = transforms.Compose([transforms.Resize(256),      # Resizes short size of the PIL image to 256\n",
    "                                      transforms.CenterCrop(224),  # Crops a central square patch of the image\n",
    "                                                                   # 224 because torchvision's AlexNet needs a 224x224 input!\n",
    "                                                                   # Remember this when applying different transformations, otherwise you get an error\n",
    "                                      transforms.ToTensor(), # Turn PIL Image to torch.Tensor\n",
    "                                      transforms.Normalize((0.485, 0.456, 0.406), (0.229, 0.224, 0.225)) # Normalizes tensor with mean and standard deviation\n",
    "])\n",
    "# Define transforms for the evaluation phase\n",
    "eval_transform = transforms.Compose([transforms.Resize(256),\n",
    "                                      transforms.CenterCrop(224),\n",
    "                                      transforms.ToTensor(),\n",
    "                                      transforms.Normalize((0.485, 0.456, 0.406), (0.229, 0.224, 0.225))                                    \n",
    "])"
   ]
  },
  {
   "cell_type": "markdown",
   "metadata": {
    "colab_type": "text",
    "id": "6-dDKsPwFU00"
   },
   "source": [
    "DATASETS\n"
   ]
  },
  {
   "cell_type": "code",
   "execution_count": 4,
   "metadata": {
    "colab": {
     "base_uri": "https://localhost:8080/",
     "height": 86
    },
    "colab_type": "code",
    "id": "b1QS1fL6FTLj",
    "outputId": "6acce86c-22f5-4cdc-ceb7-9ddb70bb1c32"
   },
   "outputs": [
    {
     "name": "stdout",
     "output_type": "stream",
     "text": [
      "Photo Dataset: 1670\n",
      "Art Painting Dataset: 2048\n",
      "Cartoon Dataset: 2344\n",
      "Sketch Dataset: 3929\n"
     ]
    }
   ],
   "source": [
    "# Clone github repository with data\n",
    "if not os.path.isdir('./Homework3-PACS'):\n",
    "  !git clone https://github.com/sofiaborgato/Homework3-PACS.git\n",
    "  \n",
    "\n",
    "\n",
    "PHOTO_DIR = 'Homework3-PACS/PACS/photo'\n",
    "CARTOON_DIR = 'Homework3-PACS/PACS/cartoon'\n",
    "SKETCH_DIR = 'Homework3-PACS/PACS/sketch'\n",
    "ART_DIR = 'Homework3-PACS/PACS/art_painting'\n",
    "from torchvision.datasets import VisionDataset\n",
    "\n",
    "# Prepare Pytorch train/test Datasets\n",
    "photo = torchvision.datasets.ImageFolder(PHOTO_DIR, transform=train_transform)\n",
    "cartoon = torchvision.datasets.ImageFolder(CARTOON_DIR, transform=eval_transform)\n",
    "sketch =torchvision.datasets.ImageFolder(SKETCH_DIR, transform=eval_transform)\n",
    "art =torchvision.datasets.ImageFolder(ART_DIR, transform=eval_transform)\n",
    "\n",
    "\n",
    "# Check dataset sizes\n",
    "print('Photo Dataset: {}'.format(len(photo)))\n",
    "print('Art Painting Dataset: {}'.format(len(art)))\n",
    "print('Cartoon Dataset: {}'.format(len(cartoon)))\n",
    "print('Sketch Dataset: {}'.format(len(sketch)))"
   ]
  },
  {
   "cell_type": "markdown",
   "metadata": {
    "colab_type": "text",
    "id": "_AO1Q1TuFcpR"
   },
   "source": [
    "DEFINE DATA LOADERS\n"
   ]
  },
  {
   "cell_type": "code",
   "execution_count": 0,
   "metadata": {
    "colab": {},
    "colab_type": "code",
    "id": "tZXU8XacFbJd"
   },
   "outputs": [],
   "source": [
    "# Dataloaders iterate over pytorch datasets and transparently provide useful functions (e.g. parallelization and shuffling)\n",
    "photo_dataloader = DataLoader(photo, batch_size=BATCH_SIZE, shuffle=True, num_workers=4, drop_last=True)\n",
    "cartoon_dataloader = DataLoader(cartoon, batch_size=BATCH_SIZE, shuffle=False, num_workers=4)\n",
    "art_dataloader = DataLoader(art, batch_size=BATCH_SIZE, shuffle=False, num_workers=4)\n",
    "sketch_dataloader = DataLoader(sketch, batch_size=BATCH_SIZE, shuffle=False, num_workers=4)"
   ]
  },
  {
   "cell_type": "markdown",
   "metadata": {
    "colab_type": "text",
    "id": "HHLfJ8lzFkR_"
   },
   "source": [
    "REVERS LAYER\n"
   ]
  },
  {
   "cell_type": "code",
   "execution_count": 0,
   "metadata": {
    "colab": {},
    "colab_type": "code",
    "id": "u42FbMprFiHg"
   },
   "outputs": [],
   "source": [
    "import torch.nn as nn\n",
    "from torch.autograd import Function\n",
    "\n",
    "''' \n",
    "Very easy template to start for developing your AlexNet with DANN \n",
    "Has not been tested, might contain incompatibilities with most recent versions of PyTorch (you should address this)\n",
    "However, the logic is consistent\n",
    "'''\n",
    "class ReverseLayerF(Function):\n",
    "    # Forwards identity\n",
    "    # Sends backward reversed gradients\n",
    "    @staticmethod\n",
    "    def forward(ctx, x, alpha):\n",
    "        ctx.alpha = alpha\n",
    "        return x.view_as(x)\n",
    "\n",
    "    @staticmethod\n",
    "    def backward(ctx, grad_output):\n",
    "        output = grad_output.neg() * ctx.alpha\n",
    "\n",
    "        return output, None"
   ]
  },
  {
   "cell_type": "markdown",
   "metadata": {
    "colab_type": "text",
    "id": "WdQ8M-KMFweT"
   },
   "source": [
    "ALEX_NET\n"
   ]
  },
  {
   "cell_type": "code",
   "execution_count": 0,
   "metadata": {
    "colab": {},
    "colab_type": "code",
    "id": "Zw8PeIhXFupB"
   },
   "outputs": [],
   "source": [
    "#from functions import ReverseLayerF\n",
    "__all__ = ['AlexNet', 'alexnet']\n",
    "\n",
    "\n",
    "model_urls = {\n",
    "    'alexnet': 'https://download.pytorch.org/models/alexnet-owt-4df8aa71.pth',\n",
    "}\n",
    "\n",
    "\n",
    "class AlexNet(nn.Module):\n",
    "\n",
    "    def __init__(self, num_classes=1000):\n",
    "        super(AlexNet, self).__init__()\n",
    "        self.features = nn.Sequential(\n",
    "            nn.Conv2d(3, 64, kernel_size=11, stride=4, padding=2),\n",
    "            nn.ReLU(inplace=True),\n",
    "            nn.MaxPool2d(kernel_size=3, stride=2),\n",
    "            nn.Conv2d(64, 192, kernel_size=5, padding=2),\n",
    "            nn.ReLU(inplace=True),\n",
    "            nn.MaxPool2d(kernel_size=3, stride=2),\n",
    "            nn.Conv2d(192, 384, kernel_size=3, padding=1),\n",
    "            nn.ReLU(inplace=True),\n",
    "            nn.Conv2d(384, 256, kernel_size=3, padding=1),\n",
    "            nn.ReLU(inplace=True),\n",
    "            nn.Conv2d(256, 256, kernel_size=3, padding=1),\n",
    "            nn.ReLU(inplace=True),\n",
    "            nn.MaxPool2d(kernel_size=3, stride=2),\n",
    "        )\n",
    "        self.avgpool = nn.AdaptiveAvgPool2d((6, 6))\n",
    "        \n",
    "        self.classifier = nn.Sequential(\n",
    "            nn.Dropout(),\n",
    "            nn.Linear(256 * 6 * 6, 4096),\n",
    "            nn.ReLU(inplace=True),\n",
    "            nn.Dropout(),\n",
    "            nn.Linear(4096, 4096),\n",
    "            nn.ReLU(inplace=True),\n",
    "            nn.Linear(4096, num_classes),\n",
    "            \n",
    "        )\n",
    "        self.GDclassifier = nn.Sequential(\n",
    "            nn.Dropout(),\n",
    "            nn.Linear(256 * 6 * 6, 4096),\n",
    "            nn.ReLU(inplace=True),\n",
    "            nn.Dropout(),\n",
    "            nn.Linear(4096, 4096),\n",
    "            nn.ReLU(inplace=True),\n",
    "            nn.Linear(4096, num_classes),\n",
    "            \n",
    "        )\n",
    "\n",
    "    \n",
    "\n",
    "    def forward(self, x, ALPHA=None):\n",
    "        x = self.features(x)\n",
    "        x = self.avgpool(x)\n",
    "        x = x.view(x.size(0),-1)\n",
    "        if ALPHA is not None:\n",
    "            reverse_feature = ReverseLayerF.apply(x, ALPHA)\n",
    "            discriminator_output = self.GDclassifier(reverse_feature)\n",
    "            return discriminator_output\n",
    "        else:\n",
    "            class_outputs = self.classifier(x)\n",
    "            return class_outputs\n",
    "\n",
    "\n",
    "def alexnet(pretrained=False, progress=True, **kwargs):\n",
    "    r\"\"\"AlexNet model architecture from the\n",
    "    `\"One weird trick...\" <https://arxiv.org/abs/1404.5997>`_ paper.\n",
    "    Args:\n",
    "        pretrained (bool): If True, returns a model pre-trained on ImageNet\n",
    "        progress (bool): If True, displays a progress bar of the download to stderr\n",
    "    \"\"\"\n",
    "    model = AlexNet(**kwargs)\n",
    "    if pretrained:\n",
    "        state_dict = load_state_dict_from_url(model_urls['alexnet'],\n",
    "                                              progress=progress)\n",
    "        model.load_state_dict(state_dict, strict=False)\n",
    "\n",
    "    return model"
   ]
  },
  {
   "cell_type": "markdown",
   "metadata": {
    "colab_type": "text",
    "id": "xDldXnyyGAcD"
   },
   "source": [
    "LOADING ALEXNET MODEL\n"
   ]
  },
  {
   "cell_type": "code",
   "execution_count": 0,
   "metadata": {
    "colab": {},
    "colab_type": "code",
    "id": "EC8krgHAF_Il"
   },
   "outputs": [],
   "source": [
    "net = alexnet(pretrained = True) # Loading AlexNet model\n",
    "\n",
    "net.classifier[6] = nn.Linear(4096, 7)\n",
    "net.GDclassifier[6]= nn.Linear(4096,2)\n",
    "\n",
    "net.GDclassifier[1].weight.data = net.classifier[1].weight.data\n",
    "net.GDclassifier[1].bias.data = net.classifier[1].bias.data\n",
    "\n",
    "net.GDclassifier[4].weight.data = net.classifier[4].weight.data\n",
    "net.GDclassifier[4].bias.data = net.classifier[4].bias.data\n",
    "\n",
    "net.GDclassifier[6].weight.data = net.classifier[6].weight.data\n",
    "net.GDclassifier[6].bias.data = net.classifier[6].bias.data"
   ]
  },
  {
   "cell_type": "markdown",
   "metadata": {
    "colab_type": "text",
    "id": "ob91S0suGSCE"
   },
   "source": [
    "DEFINE LOSS FUNCTIONS\n"
   ]
  },
  {
   "cell_type": "code",
   "execution_count": 0,
   "metadata": {
    "colab": {},
    "colab_type": "code",
    "id": "swFae85gGJjR"
   },
   "outputs": [],
   "source": [
    "# Define loss function\n",
    "criterion = nn.CrossEntropyLoss() # for classification, we use Cross Entropy\n",
    "\n",
    "# Choose parameters to optimize\n",
    "# To access a different set of parameters, you have to access submodules of AlexNet\n",
    "# (nn.Module objects, like AlexNet, implement the Composite Pattern)\n",
    "# e.g.: parameters of the fully connected layers: net.classifier.parameters()\n",
    "# e.g.: parameters of the convolutional layers: look at alexnet's source code ;) \n",
    "parameters_to_optimize = net.parameters() # In this case we optimize over all the parameters of AlexNet\n",
    "\n",
    "# Define optimizer\n",
    "# An optimizer updates the weights based on loss\n",
    "# We use SGD with momentum\n",
    "optimizer = optim.SGD(parameters_to_optimize, lr=LR, momentum=MOMENTUM, weight_decay=WEIGHT_DECAY)\n",
    "\n",
    "# Define scheduler\n",
    "# A scheduler dynamically changes learning rate\n",
    "# The most common schedule is the step(-down), which multiplies learning rate by gamma every STEP_SIZE epochs\n",
    "scheduler = optim.lr_scheduler.StepLR(optimizer, step_size=STEP_SIZE, gamma=GAMMA)"
   ]
  },
  {
   "cell_type": "markdown",
   "metadata": {
    "colab_type": "text",
    "id": "L4RzPX_nNOp6"
   },
   "source": [
    "TRAIN NO DANN"
   ]
  },
  {
   "cell_type": "code",
   "execution_count": 10,
   "metadata": {
    "colab": {
     "base_uri": "https://localhost:8080/",
     "height": 625
    },
    "colab_type": "code",
    "id": "lkJaE2bnIvov",
    "outputId": "b2580b53-9848-4368-d232-8afddf4f4d96"
   },
   "outputs": [
    {
     "name": "stdout",
     "output_type": "stream",
     "text": [
      "Starting epoch 1/10, LR = [0.001]\n"
     ]
    },
    {
     "name": "stderr",
     "output_type": "stream",
     "text": [
      "/usr/local/lib/python3.6/dist-packages/torch/optim/lr_scheduler.py:351: UserWarning: To get the last learning rate computed by the scheduler, please use `get_last_lr()`.\n",
      "  \"please use `get_last_lr()`.\", UserWarning)\n"
     ]
    },
    {
     "name": "stdout",
     "output_type": "stream",
     "text": [
      "Step 0, Loss 2.049705982208252\n"
     ]
    },
    {
     "name": "stderr",
     "output_type": "stream",
     "text": [
      "100%|██████████| 4/4 [00:09<00:00,  2.31s/it]"
     ]
    },
    {
     "name": "stdout",
     "output_type": "stream",
     "text": [
      "Validation Accuracy: 0.2734375\n",
      "Starting epoch 2/10, LR = [0.001]\n"
     ]
    },
    {
     "name": "stderr",
     "output_type": "stream",
     "text": [
      "\n",
      "100%|██████████| 4/4 [00:09<00:00,  2.27s/it]"
     ]
    },
    {
     "name": "stdout",
     "output_type": "stream",
     "text": [
      "Validation Accuracy: 0.388671875\n",
      "Starting epoch 3/10, LR = [0.001]\n"
     ]
    },
    {
     "name": "stderr",
     "output_type": "stream",
     "text": [
      "\n",
      "100%|██████████| 4/4 [00:09<00:00,  2.34s/it]"
     ]
    },
    {
     "name": "stdout",
     "output_type": "stream",
     "text": [
      "Validation Accuracy: 0.46533203125\n",
      "Starting epoch 4/10, LR = [0.001]\n"
     ]
    },
    {
     "name": "stderr",
     "output_type": "stream",
     "text": [
      "\n"
     ]
    },
    {
     "name": "stdout",
     "output_type": "stream",
     "text": [
      "Step 10, Loss 0.30949071049690247\n"
     ]
    },
    {
     "name": "stderr",
     "output_type": "stream",
     "text": [
      "100%|██████████| 4/4 [00:08<00:00,  2.24s/it]"
     ]
    },
    {
     "name": "stdout",
     "output_type": "stream",
     "text": [
      "Validation Accuracy: 0.48974609375\n",
      "Starting epoch 5/10, LR = [0.001]\n"
     ]
    },
    {
     "name": "stderr",
     "output_type": "stream",
     "text": [
      "\n",
      "100%|██████████| 4/4 [00:09<00:00,  2.27s/it]"
     ]
    },
    {
     "name": "stdout",
     "output_type": "stream",
     "text": [
      "Validation Accuracy: 0.48583984375\n",
      "Starting epoch 6/10, LR = [1e-05]\n"
     ]
    },
    {
     "name": "stderr",
     "output_type": "stream",
     "text": [
      "\n",
      "100%|██████████| 4/4 [00:09<00:00,  2.27s/it]"
     ]
    },
    {
     "name": "stdout",
     "output_type": "stream",
     "text": [
      "Validation Accuracy: 0.4853515625\n",
      "Starting epoch 7/10, LR = [0.0001]\n"
     ]
    },
    {
     "name": "stderr",
     "output_type": "stream",
     "text": [
      "\n"
     ]
    },
    {
     "name": "stdout",
     "output_type": "stream",
     "text": [
      "Step 20, Loss 0.17052143812179565\n"
     ]
    },
    {
     "name": "stderr",
     "output_type": "stream",
     "text": [
      "100%|██████████| 4/4 [00:09<00:00,  2.28s/it]"
     ]
    },
    {
     "name": "stdout",
     "output_type": "stream",
     "text": [
      "Validation Accuracy: 0.48291015625\n",
      "Starting epoch 8/10, LR = [0.0001]\n"
     ]
    },
    {
     "name": "stderr",
     "output_type": "stream",
     "text": [
      "\n",
      "100%|██████████| 4/4 [00:09<00:00,  2.29s/it]"
     ]
    },
    {
     "name": "stdout",
     "output_type": "stream",
     "text": [
      "Validation Accuracy: 0.48046875\n",
      "Starting epoch 9/10, LR = [0.0001]\n"
     ]
    },
    {
     "name": "stderr",
     "output_type": "stream",
     "text": [
      "\n",
      "100%|██████████| 4/4 [00:09<00:00,  2.32s/it]"
     ]
    },
    {
     "name": "stdout",
     "output_type": "stream",
     "text": [
      "Validation Accuracy: 0.47802734375\n",
      "Starting epoch 10/10, LR = [0.0001]\n"
     ]
    },
    {
     "name": "stderr",
     "output_type": "stream",
     "text": [
      "\n",
      "100%|██████████| 4/4 [00:09<00:00,  2.29s/it]"
     ]
    },
    {
     "name": "stdout",
     "output_type": "stream",
     "text": [
      "Validation Accuracy: 0.47802734375\n"
     ]
    },
    {
     "name": "stderr",
     "output_type": "stream",
     "text": [
      "\n"
     ]
    }
   ],
   "source": [
    "#TRAIN\n",
    "\n",
    "\n",
    "net = net.to(DEVICE) # this will bring the network to GPU if DEVICE is cuda\n",
    "cudnn.benchmark = True # Calling this optimizes runtime\n",
    "#Hyper-parameter to optimize\n",
    "learning_rate_vector=[1e-2,1e-3]\n",
    "epoch_vector=[50,30]\n",
    "loss_val=[]\n",
    "\n",
    "acc_train=[]\n",
    "current_step = 0\n",
    "best_accuracy = 0\n",
    "loss_vector = []\n",
    "tot_accuracy = []\n",
    "\n",
    "\n",
    "for epoch in range(NUM_EPOCHS):\n",
    "  print('Starting epoch {}/{}, LR = {}'.format(epoch+1, NUM_EPOCHS, scheduler.get_lr()))\n",
    "\n",
    "  # Iterate over the dataset\n",
    "  running_correct_train=0\n",
    "  for images, labels in photo_dataloader:\n",
    "    # Bring data over the device of choice\n",
    "    images = images.to(DEVICE)\n",
    "    labels = labels.to(DEVICE)\n",
    "\n",
    "    net.train() # Sets module in training mode\n",
    "\n",
    "    # PyTorch, by default, accumulates gradients after each backward pass\n",
    "    # We need to manually set the gradients to zero before starting a new iteration\n",
    "    optimizer.zero_grad() # Zero-ing the gradients\n",
    "\n",
    "    # Forward pass to the network and computes gradient\n",
    "    outputs = net(images)\n",
    "    #calculte accuracy also on train set\n",
    "    _, preds = torch.max(outputs.data, 1)\n",
    "    running_correct_train += torch.sum(preds == labels.data).data.item()\n",
    "    # Compute loss based on output and ground truth\n",
    "    loss = criterion(outputs, labels)\n",
    "\n",
    "    \n",
    "    # Log loss\n",
    "    if current_step % LOG_FREQUENCY == 0:\n",
    "      print('Step {}, Loss {}'.format(current_step, loss.item()))\n",
    "\n",
    "    # Compute gradients for each layer and update weights\n",
    "    loss.backward()  # backward pass: computes gradients\n",
    "    optimizer.step() # update weights based on accumulated gradients\n",
    "\n",
    "    current_step += 1\n",
    "  \n",
    "  loss_vector.append(loss.item())\n",
    "  acc_t=running_correct_train / float(len(photo))\n",
    "  acc_train.append(acc_t)\n",
    "  # Step the scheduler\n",
    "  scheduler.step()\n",
    "\n",
    "  #VALIDATION\n",
    "  net.train(False) # Set Network to evaluation mode\n",
    "  \n",
    "\n",
    "  running_corrects = 0\n",
    "  with torch.no_grad():\n",
    "      for images, labels in tqdm(art_dataloader):\n",
    "        images = images.to(DEVICE)\n",
    "        labels = labels.to(DEVICE)\n",
    "\n",
    "        # Forward Pass\n",
    "        outputs = net(images)\n",
    "        # Get predictions\n",
    "        _, preds = torch.max(outputs.data, 1)\n",
    "        \n",
    "        # Update Corrects\n",
    "        running_corrects += torch.sum(preds == labels.data).data.item()\n",
    "  # Calculate Accuracy\n",
    "  accuracy = running_corrects / float(len(art))\n",
    "  #loss on validation\n",
    "  loss_val.append(criterion(outputs,labels))\n",
    "  tot_accuracy.append(accuracy)\n",
    "  print('Validation Accuracy: {}'.format(accuracy))\n",
    "\n",
    "  if accuracy>best_accuracy:\n",
    "    best_net = copy.deepcopy(net)\n",
    "    best_accuracy=accuracy\n",
    "\n",
    "\n",
    "\n"
   ]
  },
  {
   "cell_type": "code",
   "execution_count": 11,
   "metadata": {
    "colab": {
     "base_uri": "https://localhost:8080/",
     "height": 590
    },
    "colab_type": "code",
    "id": "-d1A6B_fNL4J",
    "outputId": "7ea8a58d-4d05-4927-c5b6-29cc1fc40668"
   },
   "outputs": [
    {
     "data": {
      "image/png": "[encoded data removed]",
      "text/plain": [
       "<Figure size 432x288 with 1 Axes>"
      ]
     },
     "metadata": {
      "needs_background": "light",
      "tags": []
     },
     "output_type": "display_data"
    },
    {
     "name": "stdout",
     "output_type": "stream",
     "text": [
      "0.48974609375\n"
     ]
    },
    {
     "data": {
      "image/png": "[encoded data removed]",
      "text/plain": [
       "<Figure size 432x288 with 1 Axes>"
      ]
     },
     "metadata": {
      "needs_background": "light",
      "tags": []
     },
     "output_type": "display_data"
    }
   ],
   "source": [
    "#PLOT_TRAIN_STATUS\n",
    "tit = 'LossFunction - BATCH_SIZE= %d LR= %f  EPOCHS= %d  STEP_SIZE= %d GAMMA= %f' % (BATCH_SIZE, LR, NUM_EPOCHS, STEP_SIZE,GAMMA)\n",
    "x=np.linspace(1,NUM_EPOCHS,NUM_EPOCHS)\n",
    "#punti=[1,4,8,12,16,20,24]\n",
    "plt.plot(x,loss_vector,color='lightcoral')\n",
    "plt.plot(x,loss_val,color='mediumturquoise')\n",
    "#plt.xticks(punti)\n",
    "plt.title(tit)\n",
    "plt.xlabel('epoch')\n",
    "plt.ylabel('loss')\n",
    "plt.legend(['Loss_train','Loss_test'],loc='upper right')\n",
    "plt.show()\n",
    "tit_2='Accuracy - BATCH_SIZE= %d LR= %f  EPOCHS= %d  STEP_SIZE= %d GAMMA= %f' %(BATCH_SIZE, LR, NUM_EPOCHS, STEP_SIZE,GAMMA)\n",
    "plt.plot(acc_train,color='lightcoral')\n",
    "plt.plot(tot_accuracy,color='mediumturquoise')\n",
    "plt.legend(['accuracy_train','accuracy_test'],loc='best')\n",
    "plt.title(tit_2)\n",
    "plt.xlabel('epoch')\n",
    "plt.ylabel('accuracy_score')\n",
    "#plt.xticks(punti)\n",
    "#print(acc_train)\n",
    "print(best_accuracy)\n"
   ]
  },
  {
   "cell_type": "code",
   "execution_count": 12,
   "metadata": {
    "colab": {
     "base_uri": "https://localhost:8080/",
     "height": 52
    },
    "colab_type": "code",
    "id": "xKKasLx5OD29",
    "outputId": "381ecb99-35ce-4b17-c955-2e7c0606386d"
   },
   "outputs": [
    {
     "name": "stderr",
     "output_type": "stream",
     "text": [
      "100%|██████████| 4/4 [00:09<00:00,  2.30s/it]"
     ]
    },
    {
     "name": "stdout",
     "output_type": "stream",
     "text": [
      "Test Accuracy: 0.48974609375\n"
     ]
    },
    {
     "name": "stderr",
     "output_type": "stream",
     "text": [
      "\n"
     ]
    }
   ],
   "source": [
    "#TEST\n",
    "\n",
    "net = best_net.to(DEVICE) # this will bring the network to GPU if DEVICE is cuda\n",
    "net.train(False)\n",
    "\n",
    "running_corrects = 0\n",
    "for images, labels in tqdm(art_dataloader):\n",
    "    images = images.to(DEVICE)\n",
    "    labels = labels.to(DEVICE)\n",
    "\n",
    "    # Forward Pass\n",
    "    outputs = net(images)\n",
    "\n",
    "    # Get predictions\n",
    "    _, preds = torch.max(outputs.data, 1)\n",
    "\n",
    "    # Update Corrects\n",
    "    running_corrects += torch.sum(preds == labels.data).data.item()\n",
    "\n",
    "# Calculate Accuracy\n",
    "accuracy = running_corrects / float(len(art))\n",
    "\n",
    "print('Test Accuracy: {}'.format(accuracy))"
   ]
  },
  {
   "cell_type": "markdown",
   "metadata": {
    "colab_type": "text",
    "id": "GuCtmfFPO3UX"
   },
   "source": [
    "TRAIN WITH DANN"
   ]
  },
  {
   "cell_type": "code",
   "execution_count": 0,
   "metadata": {
    "colab": {},
    "colab_type": "code",
    "id": "rmumVP31Tapc"
   },
   "outputs": [],
   "source": [
    "#CREATE DATSET FOR TRAIN ON DANN \n"
   ]
  },
  {
   "cell_type": "code",
   "execution_count": 14,
   "metadata": {
    "colab": {
     "base_uri": "https://localhost:8080/",
     "height": 625
    },
    "colab_type": "code",
    "id": "Y8Ct2KEpO2u7",
    "outputId": "557bc5d1-d1a4-4b01-84f0-4a30f17123e7"
   },
   "outputs": [
    {
     "name": "stdout",
     "output_type": "stream",
     "text": [
      "Starting epoch 1/10, LR = [0.001]\n"
     ]
    },
    {
     "name": "stderr",
     "output_type": "stream",
     "text": [
      "/usr/local/lib/python3.6/dist-packages/torch/optim/lr_scheduler.py:351: UserWarning: To get the last learning rate computed by the scheduler, please use `get_last_lr()`.\n",
      "  \"please use `get_last_lr()`.\", UserWarning)\n"
     ]
    },
    {
     "name": "stdout",
     "output_type": "stream",
     "text": [
      "Step 0, Loss 2.3266382217407227\n"
     ]
    },
    {
     "name": "stderr",
     "output_type": "stream",
     "text": [
      "100%|██████████| 4/4 [00:10<00:00,  2.65s/it]"
     ]
    },
    {
     "name": "stdout",
     "output_type": "stream",
     "text": [
      "Validation Accuracy: 0.2685546875\n",
      "Starting epoch 2/10, LR = [0.001]\n"
     ]
    },
    {
     "name": "stderr",
     "output_type": "stream",
     "text": [
      "\n",
      "100%|██████████| 4/4 [00:10<00:00,  2.68s/it]"
     ]
    },
    {
     "name": "stdout",
     "output_type": "stream",
     "text": [
      "Validation Accuracy: 0.373046875\n",
      "Starting epoch 3/10, LR = [0.001]\n"
     ]
    },
    {
     "name": "stderr",
     "output_type": "stream",
     "text": [
      "\n",
      "100%|██████████| 4/4 [00:10<00:00,  2.62s/it]"
     ]
    },
    {
     "name": "stdout",
     "output_type": "stream",
     "text": [
      "Validation Accuracy: 0.4228515625\n",
      "Starting epoch 4/10, LR = [0.001]\n"
     ]
    },
    {
     "name": "stderr",
     "output_type": "stream",
     "text": [
      "\n"
     ]
    },
    {
     "name": "stdout",
     "output_type": "stream",
     "text": [
      "Step 10, Loss 0.3266502916812897\n"
     ]
    },
    {
     "name": "stderr",
     "output_type": "stream",
     "text": [
      "100%|██████████| 4/4 [00:10<00:00,  2.50s/it]"
     ]
    },
    {
     "name": "stdout",
     "output_type": "stream",
     "text": [
      "Validation Accuracy: 0.435546875\n",
      "Starting epoch 5/10, LR = [0.001]\n"
     ]
    },
    {
     "name": "stderr",
     "output_type": "stream",
     "text": [
      "\n",
      "100%|██████████| 4/4 [00:09<00:00,  2.50s/it]"
     ]
    },
    {
     "name": "stdout",
     "output_type": "stream",
     "text": [
      "Validation Accuracy: 0.43212890625\n",
      "Starting epoch 6/10, LR = [1e-05]\n"
     ]
    },
    {
     "name": "stderr",
     "output_type": "stream",
     "text": [
      "\n",
      "100%|██████████| 4/4 [00:10<00:00,  2.68s/it]"
     ]
    },
    {
     "name": "stdout",
     "output_type": "stream",
     "text": [
      "Validation Accuracy: 0.43310546875\n",
      "Starting epoch 7/10, LR = [0.0001]\n"
     ]
    },
    {
     "name": "stderr",
     "output_type": "stream",
     "text": [
      "\n"
     ]
    },
    {
     "name": "stdout",
     "output_type": "stream",
     "text": [
      "Step 20, Loss 0.1816827654838562\n"
     ]
    },
    {
     "name": "stderr",
     "output_type": "stream",
     "text": [
      "100%|██████████| 4/4 [00:10<00:00,  2.62s/it]"
     ]
    },
    {
     "name": "stdout",
     "output_type": "stream",
     "text": [
      "Validation Accuracy: 0.4345703125\n",
      "Starting epoch 8/10, LR = [0.0001]\n"
     ]
    },
    {
     "name": "stderr",
     "output_type": "stream",
     "text": [
      "\n",
      "100%|██████████| 4/4 [00:09<00:00,  2.47s/it]"
     ]
    },
    {
     "name": "stdout",
     "output_type": "stream",
     "text": [
      "Validation Accuracy: 0.43701171875\n",
      "Starting epoch 9/10, LR = [0.0001]\n"
     ]
    },
    {
     "name": "stderr",
     "output_type": "stream",
     "text": [
      "\n",
      "100%|██████████| 4/4 [00:09<00:00,  2.44s/it]"
     ]
    },
    {
     "name": "stdout",
     "output_type": "stream",
     "text": [
      "Validation Accuracy: 0.43994140625\n",
      "Starting epoch 10/10, LR = [0.0001]\n"
     ]
    },
    {
     "name": "stderr",
     "output_type": "stream",
     "text": [
      "\n",
      "100%|██████████| 4/4 [00:10<00:00,  2.63s/it]"
     ]
    },
    {
     "name": "stdout",
     "output_type": "stream",
     "text": [
      "Validation Accuracy: 0.44140625\n"
     ]
    },
    {
     "name": "stderr",
     "output_type": "stream",
     "text": [
      "\n"
     ]
    }
   ],
   "source": [
    "\n",
    "\n",
    "\n",
    "#TRAIN with DANN\n",
    "net = alexnet(pretrained = True) # Loading AlexNet modelnvolutional layer is nn.Conv2d\n",
    "net.classifier[6] = nn.Linear(4096, 7)\n",
    "net.GDclassifier[6]= nn.Linear(4096,2)\n",
    "\n",
    "net.GDclassifier[1].weight.data = net.classifier[1].weight.data\n",
    "net.GDclassifier[1].bias.data = net.classifier[1].bias.data\n",
    "\n",
    "net.GDclassifier[4].weight.data = net.classifier[4].weight.data\n",
    "net.GDclassifier[4].bias.data = net.classifier[4].bias.data\n",
    "\n",
    "net.GDclassifier[6].weight.data = net.classifier[6].weight.data\n",
    "net.GDclassifier[6].bias.data = net.classifier[6].bias.data\n",
    "\n",
    "criterion = nn.CrossEntropyLoss()\n",
    "parameters_to_optimize = net.parameters()\n",
    "optimizer = optim.SGD(parameters_to_optimize, lr=LR, momentum=MOMENTUM, weight_decay=WEIGHT_DECAY)\n",
    "scheduler = optim.lr_scheduler.StepLR(optimizer, step_size=STEP_SIZE, gamma=GAMMA)\n",
    "net = net.to(DEVICE) # this will bring the network to GPU if DEVICE is cuda\n",
    "cudnn.benchmark = True # Calling this optimizes runtime\n",
    "#Hyper-parameter to optimize\n",
    "learning_rate_vector=[1e-2,1e-3]\n",
    "epoch_vector=[50,30]\n",
    "loss_val_dann=[]\n",
    "\n",
    "acc_train_dann=[]\n",
    "current_step = 0\n",
    "best_accuracy_dann = 0\n",
    "loss_vector_dann = []\n",
    "tot_accuracy_dann = []\n",
    "domain_loss_vect=[]\n",
    "\n",
    "\n",
    "for epoch in range(NUM_EPOCHS):\n",
    "  print('Starting epoch {}/{}, LR = {}'.format(epoch+1, NUM_EPOCHS, scheduler.get_lr()))\n",
    "\n",
    "  # Iterate over the dataset\n",
    "  running_correct_train=0\n",
    "  rc_domain=0\n",
    "  for images, labels in photo_dataloader:\n",
    "    # Bring data over the device of choice\n",
    "    images = images.to(DEVICE)\n",
    "    labels = labels.to(DEVICE)\n",
    "\n",
    "    net.train() # Sets module in training mode\n",
    "\n",
    "    # PyTorch, by default, accumulates gradients after each backward pass\n",
    "    # We need to manually set the gradients to zero before starting a new iteration\n",
    "    optimizer.zero_grad() # Zero-ing the gradients\n",
    "\n",
    "    # Forward pass to the network\n",
    "    outputs = net(images)\n",
    "    #calculte accuracy also on train set\n",
    "    _, preds = torch.max(outputs.data, 1)\n",
    "    running_correct_train += torch.sum(preds == labels.data).data.item()\n",
    "    # Compute loss based on output and ground truth\n",
    "    loss = criterion(outputs, labels)\n",
    "    #Forward pass to domain classifier\n",
    "    domain_output=net.forward(images,ALPHA)\n",
    "    targets=torch.zeros(labels.size(0),dtype=torch.int64).to(DEVICE)\n",
    "    domain_loss=criterion(domain_output,targets)\n",
    "    domain_loss.backward()\n",
    "    #forward pass to the discriminator  test dataset\n",
    "    test_images,test_label=next(iter(art_dataloader))\n",
    "    test_images=test_images.to(DEVICE)\n",
    "    test_label=test_label.to(DEVICE)\n",
    "    \n",
    "    domain_output_test=net(test_images,ALPHA)\n",
    "    targets=torch.ones(labels.size(0),dtype=torch.int64).to(DEVICE)\n",
    "    domain_loss_test=criterion(domain_output_test,targets)\n",
    "    \n",
    "    \n",
    "    domain_loss_test.backward()\n",
    "\n",
    "    # Log loss\n",
    "    if current_step % LOG_FREQUENCY == 0:\n",
    "      print('Step {}, Loss {}'.format(current_step, loss.item()))\n",
    "\n",
    "    # Compute gradients for each layer and update weights\n",
    "    loss.backward()  # backward pass: computes gradients\n",
    "    optimizer.step() # update weights based on accumulated gradients\n",
    "\n",
    "    current_step += 1\n",
    "  \n",
    "  loss_vector_dann.append(domain_loss_test.item())\n",
    "  acc_t=running_correct_train / float(len(photo))\n",
    "  acc_train_dann.append(acc_t)\n",
    "  domain_loss_vect.append(domain_loss_test.item())\n",
    "  \n",
    "\n",
    "  # Step the scheduler\n",
    "  scheduler.step()\n",
    "\n",
    "  #TEST\n",
    "  net.train(False) # Set Network to evaluation mode\n",
    "  \n",
    "\n",
    "  running_corrects = 0\n",
    "  with torch.no_grad():\n",
    "      for images, labels in tqdm(art_dataloader):\n",
    "        images = images.to(DEVICE)\n",
    "        labels = labels.to(DEVICE)\n",
    "\n",
    "        # Forward Pass\n",
    "        outputs = net(images)\n",
    "        # Get predictions\n",
    "        _, preds = torch.max(outputs.data, 1)\n",
    "        \n",
    "        # Update Corrects\n",
    "        running_corrects += torch.sum(preds == labels.data).data.item()\n",
    "  # Calculate Accuracy\n",
    "  accuracy = running_corrects / float(len(art))\n",
    "  #loss on validation\n",
    "  loss_val_dann.append(criterion(outputs,labels))\n",
    "  tot_accuracy_dann.append(accuracy)\n",
    "  print('Validation Accuracy: {}'.format(accuracy))\n",
    "\n",
    "  if accuracy>best_accuracy_dann:\n",
    "    best_net_dann = copy.deepcopy(net)\n",
    "    best_accuracy_dann=accuracy"
   ]
  },
  {
   "cell_type": "code",
   "execution_count": 15,
   "metadata": {
    "colab": {
     "base_uri": "https://localhost:8080/",
     "height": 590
    },
    "colab_type": "code",
    "id": "zOgV1f9MJY2e",
    "outputId": "1c98b278-7829-4fc8-fc8e-5cdda991fc5f"
   },
   "outputs": [
    {
     "data": {
      "image/png": "[encoded data removed]",
      "text/plain": [
       "<Figure size 432x288 with 1 Axes>"
      ]
     },
     "metadata": {
      "needs_background": "light",
      "tags": []
     },
     "output_type": "display_data"
    },
    {
     "name": "stdout",
     "output_type": "stream",
     "text": [
      "0.44140625\n"
     ]
    },
    {
     "data": {
      "image/png": "[encoded data removed]",
      "text/plain": [
       "<Figure size 432x288 with 1 Axes>"
      ]
     },
     "metadata": {
      "needs_background": "light",
      "tags": []
     },
     "output_type": "display_data"
    }
   ],
   "source": [
    "#PLOT_DANN_NO_DANN\n",
    "tit = 'LossFunction - BATCH_SIZE= %d LR= %f  EPOCHS= %d  STEP_SIZE= %d GAMMA= %f' % (BATCH_SIZE, LR, NUM_EPOCHS, STEP_SIZE,GAMMA)\n",
    "x=np.linspace(1,NUM_EPOCHS,NUM_EPOCHS)\n",
    "punti=[1,3,5,10]\n",
    "plt.plot(x,loss_vector,color='lightcoral')\n",
    "plt.plot(x,loss_val,color='mediumturquoise')#\n",
    "plt.plot(x,loss_vector_dann)\n",
    "plt.plot(x,loss_val_dann)\n",
    "#plt.plot(x,loss_vector_dann)\n",
    "plt.xticks(punti)\n",
    "plt.title(tit)\n",
    "plt.xlabel('epoch')\n",
    "plt.ylabel('loss')\n",
    "plt.legend(['Loss_train','Loss_test','Loss_train_DANN','loss_test_DANN','loss_domain'],loc='best')\n",
    "plt.show()\n",
    "tit_2='Accuracy - BATCH_SIZE= %d LR= %f  EPOCHS= %d  STEP_SIZE= %d GAMMA= %f' %(BATCH_SIZE, LR, NUM_EPOCHS, STEP_SIZE,GAMMA)\n",
    "plt.plot(acc_train,color='lightcoral')\n",
    "plt.plot(tot_accuracy,color='mediumturquoise')\n",
    "plt.plot(acc_train_dann)\n",
    "plt.plot(tot_accuracy_dann)\n",
    "#plt.plot(domain_acc)\n",
    "plt.legend(['accuracy_train','accuracy_test','accuracy_train_DANN','accuracy_test_DANN'],loc='best')\n",
    "plt.title(tit_2)\n",
    "plt.xlabel('epoch')\n",
    "plt.ylabel('accuracy_score')\n",
    "plt.xticks(punti)\n",
    "#print(acc_train)\n",
    "print(best_accuracy_dann)"
   ]
  },
  {
   "cell_type": "code",
   "execution_count": 16,
   "metadata": {
    "colab": {
     "base_uri": "https://localhost:8080/",
     "height": 590
    },
    "colab_type": "code",
    "id": "Cey8Jx2bIQJq",
    "outputId": "bb65fa0f-9749-4547-e1ee-a22fff7c1ad9"
   },
   "outputs": [
    {
     "data": {
      "image/png": "[encoded data removed]",
      "text/plain": [
       "<Figure size 432x288 with 1 Axes>"
      ]
     },
     "metadata": {
      "needs_background": "light",
      "tags": []
     },
     "output_type": "display_data"
    },
    {
     "name": "stdout",
     "output_type": "stream",
     "text": [
      "0.44140625\n"
     ]
    },
    {
     "data": {
      "image/png": "[encoded data removed]",
      "text/plain": [
       "<Figure size 432x288 with 1 Axes>"
      ]
     },
     "metadata": {
      "needs_background": "light",
      "tags": []
     },
     "output_type": "display_data"
    }
   ],
   "source": [
    "#PLOT_DANN_NO_DANN\n",
    "tit = 'LossFunction - BATCH_SIZE= %d LR= %f  EPOCHS= %d  STEP_SIZE= %d GAMMA= %f' % (BATCH_SIZE, LR, NUM_EPOCHS, STEP_SIZE,GAMMA)\n",
    "x=np.linspace(1,NUM_EPOCHS,NUM_EPOCHS)\n",
    "punti=[1,3,5,10]\n",
    "plt.plot(x,loss_vector,color='lightseagreen')\n",
    "plt.plot(x,loss_val,color='mediumseagreen')\n",
    "plt.plot(x,loss_vector_dann, color='teal')\n",
    "plt.plot(x,loss_val_dann,color='gray')\n",
    "plt.xticks(punti)\n",
    "plt.title(tit)\n",
    "plt.xlabel('epoch')\n",
    "plt.ylabel('loss')\n",
    "plt.legend(['Loss_train','Loss_test','Loss_train_DANN','loss_test_DANN'],loc='best')\n",
    "plt.show()\n",
    "tit_2='Accuracy - BATCH_SIZE= %d LR= %f  EPOCHS= %d  STEP_SIZE= %d GAMMA= %f' %(BATCH_SIZE, LR, NUM_EPOCHS, STEP_SIZE,GAMMA)\n",
    "plt.plot(acc_train,color='lightseagreen')\n",
    "plt.plot(tot_accuracy,color='mediumseagreen')\n",
    "plt.plot(acc_train_dann,color='teal')\n",
    "plt.plot(tot_accuracy_dann,color='gray')\n",
    "plt.legend(['accuracy_train','accuracy_test','accuracy_train_DANN','accuracy_test_DANN'],loc='best')\n",
    "plt.title(tit_2)\n",
    "plt.xlabel('epoch')\n",
    "plt.ylabel('accuracy_score')\n",
    "plt.xticks(punti)\n",
    "#print(acc_train)\n",
    "print(best_accuracy_dann)"
   ]
  },
  {
   "cell_type": "code",
   "execution_count": 17,
   "metadata": {
    "colab": {
     "base_uri": "https://localhost:8080/",
     "height": 52
    },
    "colab_type": "code",
    "id": "yqMzKS-9g3NQ",
    "outputId": "53033007-d9c0-40b3-d76f-81b8cd3bd995"
   },
   "outputs": [
    {
     "name": "stderr",
     "output_type": "stream",
     "text": [
      "100%|██████████| 4/4 [00:10<00:00,  2.60s/it]"
     ]
    },
    {
     "name": "stdout",
     "output_type": "stream",
     "text": [
      "Test Accuracy: 0.44140625\n"
     ]
    },
    {
     "name": "stderr",
     "output_type": "stream",
     "text": [
      "\n"
     ]
    }
   ],
   "source": [
    "#TEST\n",
    "\n",
    "net = best_net_dann.to(DEVICE) # this will bring the network to GPU if DEVICE is cuda\n",
    "net.train(False)\n",
    "\n",
    "running_corrects = 0\n",
    "for images, labels in tqdm(art_dataloader):\n",
    "    images = images.to(DEVICE)\n",
    "    labels = labels.to(DEVICE)\n",
    "\n",
    "    # Forward Pass\n",
    "    outputs = net(images)\n",
    "\n",
    "    # Get predictions\n",
    "    _, preds = torch.max(outputs.data, 1)\n",
    "\n",
    "    # Update Corrects\n",
    "    running_corrects += torch.sum(preds == labels.data).data.item()\n",
    "\n",
    "# Calculate Accuracy\n",
    "accuracy = running_corrects / float(len(art))\n",
    "\n",
    "print('Test Accuracy: {}'.format(accuracy))"
   ]
  },
  {
   "cell_type": "code",
   "execution_count": 18,
   "metadata": {
    "colab": {
     "base_uri": "https://localhost:8080/",
     "height": 590
    },
    "colab_type": "code",
    "id": "30V-lNGbZ8R5",
    "outputId": "2914a580-ea63-4621-a049-fa1c9918dd41"
   },
   "outputs": [
    {
     "data": {
      "image/png": "[encoded data removed]",
      "text/plain": [
       "<Figure size 432x288 with 1 Axes>"
      ]
     },
     "metadata": {
      "needs_background": "light",
      "tags": []
     },
     "output_type": "display_data"
    },
    {
     "name": "stdout",
     "output_type": "stream",
     "text": [
      "0.48974609375\n"
     ]
    },
    {
     "data": {
      "image/png": "[encoded data removed]",
      "text/plain": [
       "<Figure size 432x288 with 1 Axes>"
      ]
     },
     "metadata": {
      "needs_background": "light",
      "tags": []
     },
     "output_type": "display_data"
    }
   ],
   "source": [
    "#PLOT DOMAIN STATUS\n",
    "tit = 'LossFunction - BATCH_SIZE= %d LR= %f  EPOCHS= %d  STEP_SIZE= %d GAMMA= %f' % (BATCH_SIZE, LR, NUM_EPOCHS, STEP_SIZE,GAMMA)\n",
    "x=np.linspace(1,NUM_EPOCHS,NUM_EPOCHS)\n",
    "#punti=[1,4,8,12,16,20,24]\n",
    "plt.plot(x,color='lightcoral')\n",
    "plt.plot(x,loss_val,color='mediumturquoise')\n",
    "#plt.xticks(punti)\n",
    "plt.title(tit)\n",
    "plt.xlabel('epoch')\n",
    "plt.ylabel('loss')\n",
    "plt.legend(['Loss_train','Loss_test'],loc='upper right')\n",
    "plt.show()\n",
    "tit_2='Accuracy - BATCH_SIZE= %d LR= %f  EPOCHS= %d  STEP_SIZE= %d GAMMA= %f' %(BATCH_SIZE, LR, NUM_EPOCHS, STEP_SIZE,GAMMA)\n",
    "plt.plot(acc_train,color='lightcoral')\n",
    "plt.plot(tot_accuracy,color='mediumturquoise')\n",
    "plt.legend(['accuracy_train','accuracy_test'],loc='best')\n",
    "plt.title(tit_2)\n",
    "plt.xlabel('epoch')\n",
    "plt.ylabel('accuracy_score')\n",
    "#plt.xticks(punti)\n",
    "#print(acc_train)\n",
    "print(best_accuracy)\n"
   ]
  },
  {
   "cell_type": "code",
   "execution_count": 19,
   "metadata": {
    "colab": {
     "base_uri": "https://localhost:8080/",
     "height": 34
    },
    "colab_type": "code",
    "id": "ix4ktiICb44A",
    "outputId": "f501818f-456d-4fe5-e208-752035f4077f"
   },
   "outputs": [
    {
     "name": "stdout",
     "output_type": "stream",
     "text": [
      "0\n"
     ]
    }
   ],
   "source": [
    "print(rc_domain)"
   ]
  }
 ],
 "metadata": {
  "accelerator": "GPU",
  "colab": {
   "name": "HMW3_new.ipynb",
   "provenance": []
  },
  "kernelspec": {
   "display_name": "Python 3",
   "language": "python",
   "name": "python3"
  },
  "language_info": {
   "codemirror_mode": {
    "name": "ipython",
    "version": 3
   },
   "file_extension": ".py",
   "mimetype": "text/x-python",
   "name": "python",
   "nbconvert_exporter": "python",
   "pygments_lexer": "ipython3",
   "version": "3.8.5"
  }
 },
 "nbformat": 4,
 "nbformat_minor": 1
}

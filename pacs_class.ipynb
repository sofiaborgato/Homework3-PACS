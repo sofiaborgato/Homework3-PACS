{
 "cells": [
  {
   "cell_type": "code",
   "execution_count": 8,
   "metadata": {},
   "outputs": [],
   "source": [
    "from torchvision.datasets import VisionDataset\n",
    "from PIL import Image\n",
    "import os\n",
    "import sys\n",
    "import numpy as np\n"
   ]
  },
  {
   "cell_type": "code",
   "execution_count": 9,
   "metadata": {},
   "outputs": [],
   "source": [
    "def pil_loader(path):\n",
    "    # open path as file to avoid ResourceWarning (https://github.com/python-pillow/Pillow/issues/835)\n",
    "    with open(path, 'rb') as f:\n",
    "        img = Image.open(f)\n",
    "        return img.convert('RGB')"
   ]
  },
  {
   "cell_type": "code",
   "execution_count": 10,
   "metadata": {},
   "outputs": [],
   "source": [
    "class Pacs(VisionDataset):\n",
    "    def __init__(self, root,domain, transform=None, target_transform=None):\n",
    "        super(Pacs, self).__init__(root, transform=transform, target_transform=target_transform)\n",
    "        \n",
    "        self.datset={}\n",
    "        self.count=0\n",
    "        self.classes=os.listdir(root+'/'+domain)\n",
    "        self.class_dict={}\n",
    "        class_count=0\n",
    "\n",
    "        for classe in self.classes:\n",
    "            self.class_dict[classe]=class_counter\n",
    "            class_path=root+'/'+domain+'/'+classe\n",
    "            imgaes=os.listdir(class_path)\n",
    "            for image in images:\n",
    "                image_path=root+'/'+domain+'/'+classe+'/'+image\n",
    "                self.dataset[self.counter]=pil_loader(image_path,class_counter)\n",
    "                self.count+=1\n",
    "            class_count+=1\n",
    "        \n",
    "    def __getitem__(self,index):\n",
    "        image,label=self.dataset[index]\n",
    "        return image,label\n",
    "    \n",
    "    def __len__(self):\n",
    "        return self.count\n",
    "    \n",
    "    \n",
    "        \n",
    "        \n",
    "    \n"
   ]
  }
 ],
 "metadata": {
  "kernelspec": {
   "display_name": "Python 3",
   "language": "python",
   "name": "python3"
  },
  "language_info": {
   "codemirror_mode": {
    "name": "ipython",
    "version": 3
   },
   "file_extension": ".py",
   "mimetype": "text/x-python",
   "name": "python",
   "nbconvert_exporter": "python",
   "pygments_lexer": "ipython3",
   "version": "3.8.2"
  }
 },
 "nbformat": 4,
 "nbformat_minor": 4
}
